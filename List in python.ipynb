{
 "cells": [
  {
   "cell_type": "code",
   "execution_count": 1,
   "metadata": {},
   "outputs": [],
   "source": [
    "#list \n",
    "a=[2, 15, 3]"
   ]
  },
  {
   "cell_type": "code",
   "execution_count": 2,
   "metadata": {},
   "outputs": [
    {
     "name": "stdout",
     "output_type": "stream",
     "text": [
      "[2, 15, 3]\n"
     ]
    }
   ],
   "source": [
    "print(a)"
   ]
  },
  {
   "cell_type": "code",
   "execution_count": 22,
   "metadata": {},
   "outputs": [
    {
     "name": "stdout",
     "output_type": "stream",
     "text": [
      "[2, 'shahzad', 40, 40, 40]\n"
     ]
    }
   ],
   "source": [
    "#append  a list or add in a list\n",
    "a.append(40)\n",
    "print(a)"
   ]
  },
  {
   "cell_type": "code",
   "execution_count": 23,
   "metadata": {},
   "outputs": [
    {
     "name": "stdout",
     "output_type": "stream",
     "text": [
      "[2, 'shahzad', 40, 40, 40, 'shahzad']\n"
     ]
    }
   ],
   "source": [
    "#append a list with string or add\n",
    "a.append(\"shahzad\")\n",
    "print(a)"
   ]
  },
  {
   "cell_type": "code",
   "execution_count": 24,
   "metadata": {},
   "outputs": [
    {
     "name": "stdout",
     "output_type": "stream",
     "text": [
      "[2, 'shahzad', 40, 40, 40]\n"
     ]
    }
   ],
   "source": [
    "# remove a value from list\n",
    "# pop will remove value from last \n",
    "a.pop()\n",
    "print(a)"
   ]
  },
  {
   "cell_type": "code",
   "execution_count": 25,
   "metadata": {},
   "outputs": [],
   "source": [
    "# changing value from list using indexing\n",
    "a[1] = 20"
   ]
  },
  {
   "cell_type": "code",
   "execution_count": 26,
   "metadata": {},
   "outputs": [
    {
     "name": "stdout",
     "output_type": "stream",
     "text": [
      "[2, 20, 40, 40, 40]\n"
     ]
    }
   ],
   "source": [
    "print(a)"
   ]
  },
  {
   "cell_type": "code",
   "execution_count": 30,
   "metadata": {},
   "outputs": [
    {
     "data": {
      "text/plain": [
       "40"
      ]
     },
     "execution_count": 30,
     "metadata": {},
     "output_type": "execute_result"
    }
   ],
   "source": [
    "# show index values\n",
    "a[2]"
   ]
  },
  {
   "cell_type": "code",
   "execution_count": 31,
   "metadata": {},
   "outputs": [
    {
     "name": "stdout",
     "output_type": "stream",
     "text": [
      "20\n"
     ]
    }
   ],
   "source": [
    "# show index value \n",
    "print(a[1])"
   ]
  },
  {
   "cell_type": "code",
   "execution_count": 43,
   "metadata": {},
   "outputs": [
    {
     "name": "stdout",
     "output_type": "stream",
     "text": [
      "['Microsoft', 'apple', 'banana']\n"
     ]
    }
   ],
   "source": [
    "#swaping the list values by indexing\n",
    "b =[\"banana\", \"apple\", \"Microsoft\"]\n",
    "b[0], b[2] = b[2], b[0]\n",
    "print(b)"
   ]
  },
  {
   "cell_type": "code",
   "execution_count": 42,
   "metadata": {},
   "outputs": [
    {
     "name": "stdout",
     "output_type": "stream",
     "text": [
      "['Microsoft', 'apple', 'banana']\n"
     ]
    }
   ],
   "source": [
    "#swaping \n",
    "b =[\"banana\", \"apple\", \"Microsoft\"]\n",
    "temp = b[0]\n",
    "b[0] = b[2]\n",
    "b[2] = temp\n",
    "print(b)"
   ]
  },
  {
   "cell_type": "code",
   "execution_count": 34,
   "metadata": {},
   "outputs": [
    {
     "name": "stdout",
     "output_type": "stream",
     "text": [
      "3\n",
      "2\n"
     ]
    }
   ],
   "source": [
    "# SWAPING using 3rd variable\n",
    "a = 2\n",
    "b = 3\n",
    "temp = a \n",
    "a = b \n",
    "b = temp \n",
    "print(a)\n",
    "print(b)"
   ]
  },
  {
   "cell_type": "code",
   "execution_count": 38,
   "metadata": {},
   "outputs": [
    {
     "name": "stdout",
     "output_type": "stream",
     "text": [
      "10 5\n"
     ]
    }
   ],
   "source": [
    "#swaping using only two variables\n",
    "x , y = 5, 10\n",
    "x, y = y, x \n",
    "print(x, y)"
   ]
  },
  {
   "cell_type": "code",
   "execution_count": 47,
   "metadata": {},
   "outputs": [
    {
     "name": "stdout",
     "output_type": "stream",
     "text": [
      "['shazi', 'faizi', 'sunny', 'oggy', 'tamater', 'lajawab']\n",
      "['faizi']\n"
     ]
    }
   ],
   "source": [
    "# list1 = [0,1,2,3]\n",
    "# [1:4:2]\n",
    "# start [1]\n",
    "# where to end but last will not be inculded[4]\n",
    "# steps are taken [2]\n",
    "\n",
    "# list = [start:end:step]\n",
    "# start included\n",
    "# end excluded\n",
    "# step \n",
    "#slicing \n",
    "\n",
    "list1 = ['shazi','faizi','sunny','oggy','tamater','lajawab']\n",
    "print(list1)"
   ]
  },
  {
   "cell_type": "code",
   "execution_count": 57,
   "metadata": {},
   "outputs": [
    {
     "name": "stdout",
     "output_type": "stream",
     "text": [
      "['faizi', 'oggy']\n"
     ]
    }
   ],
   "source": [
    "print(list1[1:4:2])"
   ]
  },
  {
   "cell_type": "code",
   "execution_count": 67,
   "metadata": {},
   "outputs": [
    {
     "name": "stdout",
     "output_type": "stream",
     "text": [
      "['sunny', 'oggy']\n"
     ]
    }
   ],
   "source": [
    "# for minus indexing\n",
    "#            -6        -5       -4      -3     -2        -1\n",
    "new_list = ['shahzad','sunny','faizi','oggy','badshah','janu']\n",
    "#             0          1        2      3      4         5\n",
    "\n",
    "print(new_list[1:4:2])"
   ]
  },
  {
   "cell_type": "code",
   "execution_count": 69,
   "metadata": {},
   "outputs": [
    {
     "data": {
      "text/plain": [
       "['a', 'b', 'c']"
      ]
     },
     "execution_count": 69,
     "metadata": {},
     "output_type": "execute_result"
    }
   ],
   "source": [
    "#positvie indexing\n",
    "#      -3  -2  -1\n",
    "l1 = [\"a\",\"b\",\"c\"]\n",
    "#      0    1   2 \n",
    "# slicing\n",
    "#l1[::]\n",
    "#l1\n",
    "#l1[:]\n",
    "#l1[0:]\n",
    "#l1[-3:]\n",
    "#l1[0:3]\n",
    "l1[-3:3]"
   ]
  },
  {
   "cell_type": "code",
   "execution_count": 73,
   "metadata": {},
   "outputs": [
    {
     "data": {
      "text/plain": [
       "['c', 'a']"
      ]
     },
     "execution_count": 73,
     "metadata": {},
     "output_type": "execute_result"
    }
   ],
   "source": [
    "#print in reverse order\n",
    "l1 = [\"a\",\"b\",\"c\"]\n",
    "l1[-1:-4:-1]\n",
    "l1[::-1]\n",
    "l1[::-2]\n",
    "#list,indexing,slicing"
   ]
  },
  {
   "cell_type": "code",
   "execution_count": 79,
   "metadata": {},
   "outputs": [
    {
     "name": "stdout",
     "output_type": "stream",
     "text": [
      "['a', 'b', 'c', 'khajoor', 'khajoor', 'k', 'k', 'k', 'k']\n"
     ]
    }
   ],
   "source": [
    "l1.append(\"k\")\n",
    "print(l1)"
   ]
  },
  {
   "cell_type": "code",
   "execution_count": 82,
   "metadata": {},
   "outputs": [
    {
     "name": "stdout",
     "output_type": "stream",
     "text": [
      "['a', 'b', 'c', 'khajoor', 'khajoor', 'k', 'k']\n"
     ]
    }
   ],
   "source": [
    "# del fun used to delete value using index\n",
    "del l1[7]\n",
    "print(l1)"
   ]
  },
  {
   "cell_type": "code",
   "execution_count": 86,
   "metadata": {},
   "outputs": [
    {
     "name": "stdout",
     "output_type": "stream",
     "text": [
      "['a', 'b', 'c', 'k']\n"
     ]
    }
   ],
   "source": [
    "# remove fun is used to delete by using element\n",
    "l1.remove('k')\n",
    "print(l1)"
   ]
  },
  {
   "cell_type": "code",
   "execution_count": 89,
   "metadata": {},
   "outputs": [
    {
     "name": "stdout",
     "output_type": "stream",
     "text": [
      "['a', 'b', 'pop', 'pop', 'c', 'k']\n"
     ]
    }
   ],
   "source": [
    "#using insert to add in a list\n",
    "#         index, element place\n",
    "l1.insert(2,\"pop\")\n",
    "print(l1)"
   ]
  },
  {
   "cell_type": "code",
   "execution_count": 90,
   "metadata": {},
   "outputs": [
    {
     "data": {
      "text/plain": [
       "['a', 'b', 'pop', 'dhaniya', 'c', 'k']"
      ]
     },
     "execution_count": 90,
     "metadata": {},
     "output_type": "execute_result"
    }
   ],
   "source": [
    "# replace with\n",
    "l1[3] = \"dhaniya\"\n",
    "l1"
   ]
  },
  {
   "cell_type": "code",
   "execution_count": null,
   "metadata": {},
   "outputs": [],
   "source": []
  }
 ],
 "metadata": {
  "kernelspec": {
   "display_name": "Python 3",
   "language": "python",
   "name": "python3"
  },
  "language_info": {
   "codemirror_mode": {
    "name": "ipython",
    "version": 3
   },
   "file_extension": ".py",
   "mimetype": "text/x-python",
   "name": "python",
   "nbconvert_exporter": "python",
   "pygments_lexer": "ipython3",
   "version": "3.7.3"
  }
 },
 "nbformat": 4,
 "nbformat_minor": 2
}
