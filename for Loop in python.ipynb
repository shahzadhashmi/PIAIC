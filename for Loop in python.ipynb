{
 "cells": [
  {
   "cell_type": "code",
   "execution_count": 6,
   "metadata": {},
   "outputs": [
    {
     "name": "stdout",
     "output_type": "stream",
     "text": [
      "10\n",
      "20\n",
      "40\n"
     ]
    }
   ],
   "source": [
    "#for loop in python\n",
    "a = [10, 20 , 40 ]\n",
    "for e in a:\n",
    "    print(e)"
   ]
  },
  {
   "cell_type": "code",
   "execution_count": 8,
   "metadata": {},
   "outputs": [
    {
     "name": "stdout",
     "output_type": "stream",
     "text": [
      "170\n"
     ]
    }
   ],
   "source": [
    "# sum using for loop\n",
    "a = [20, 50, 100]\n",
    "total = 0\n",
    "for e in a:\n",
    "    total = total + e\n",
    "print(total)"
   ]
  },
  {
   "cell_type": "code",
   "execution_count": 11,
   "metadata": {},
   "outputs": [
    {
     "data": {
      "text/plain": [
       "[1, 2, 3, 4]"
      ]
     },
     "execution_count": 11,
     "metadata": {},
     "output_type": "execute_result"
    }
   ],
   "source": [
    "# using range in for loop\n",
    "list(range(1, 5))"
   ]
  },
  {
   "cell_type": "code",
   "execution_count": 12,
   "metadata": {},
   "outputs": [
    {
     "name": "stdout",
     "output_type": "stream",
     "text": [
      "1\n",
      "2\n",
      "3\n",
      "4\n"
     ]
    }
   ],
   "source": [
    "for i in range(1,5):\n",
    "    print(i)"
   ]
  },
  {
   "cell_type": "code",
   "execution_count": 14,
   "metadata": {},
   "outputs": [
    {
     "name": "stdout",
     "output_type": "stream",
     "text": [
      "44\n"
     ]
    }
   ],
   "source": [
    "#adding values of range using list and applying for loop\n",
    "z = list(range(2,10))\n",
    "total2 = 0 \n",
    "for i in z:\n",
    "    total2 += i\n",
    "print(total2)"
   ]
  },
  {
   "cell_type": "code",
   "execution_count": 16,
   "metadata": {},
   "outputs": [
    {
     "name": "stdout",
     "output_type": "stream",
     "text": [
      "18\n"
     ]
    }
   ],
   "source": [
    "#sum of multiple of 3 in list\n",
    "z = list(range(2, 10))\n",
    "total3 = 0\n",
    "for i in z:\n",
    "    if i % 3 == 0:\n",
    "        total3 += i\n",
    "print(total3)"
   ]
  },
  {
   "cell_type": "code",
   "execution_count": 30,
   "metadata": {},
   "outputs": [
    {
     "name": "stdout",
     "output_type": "stream",
     "text": [
      "1\n",
      "2\n",
      "three\n",
      "4\n",
      "five\n",
      "three\n",
      "7\n",
      "8\n",
      "three\n",
      "five\n",
      "11\n",
      "three\n",
      "13\n",
      "14\n",
      "threefive\n",
      "16\n",
      "17\n",
      "three\n",
      "19\n",
      "five\n",
      "three\n",
      "22\n",
      "23\n",
      "three\n",
      "five\n",
      "26\n",
      "three\n",
      "28\n",
      "29\n",
      "threefive\n",
      "31\n",
      "32\n",
      "three\n",
      "34\n",
      "five\n",
      "three\n",
      "37\n",
      "38\n",
      "three\n",
      "five\n",
      "41\n",
      "three\n",
      "43\n",
      "44\n",
      "threefive\n",
      "46\n",
      "47\n",
      "three\n",
      "49\n",
      "five\n",
      "three\n",
      "52\n",
      "53\n",
      "three\n",
      "five\n",
      "56\n",
      "three\n",
      "58\n",
      "59\n",
      "threefive\n",
      "61\n",
      "62\n",
      "three\n",
      "64\n",
      "five\n",
      "three\n",
      "67\n",
      "68\n",
      "three\n",
      "five\n",
      "71\n",
      "three\n",
      "73\n",
      "74\n",
      "threefive\n",
      "76\n",
      "77\n",
      "three\n",
      "79\n",
      "five\n",
      "three\n",
      "82\n",
      "83\n",
      "three\n",
      "five\n",
      "86\n",
      "three\n",
      "88\n",
      "89\n",
      "threefive\n",
      "91\n",
      "92\n",
      "three\n",
      "94\n",
      "five\n",
      "three\n",
      "97\n",
      "98\n",
      "three\n"
     ]
    }
   ],
   "source": [
    "#Write a program that prints the numbers from 1 to 100. But for multiples of three print “three” \n",
    "#instead of the number and for the multiples of five print \"five\".\n",
    "#For numbers which are multiples of both three and five print “FizzBuzz”.\n",
    "# create a function\n",
    "\n",
    "def three_five(num):\n",
    "    if num % 3 == 0 and num % 5 == 0:\n",
    "        return 'threefive'\n",
    "    elif num % 3 == 0:\n",
    "        return 'three'\n",
    "    elif num % 5 == 0:\n",
    "        return 'five'\n",
    "    else:\n",
    "        return num\n",
    "for n in range(1, 100):\n",
    "    print(three_five(n))\n",
    "    \n",
    "    \n"
   ]
  },
  {
   "cell_type": "code",
   "execution_count": 76,
   "metadata": {},
   "outputs": [
    {
     "name": "stdout",
     "output_type": "stream",
     "text": [
      "2318\n"
     ]
    }
   ],
   "source": [
    "#sum of multiple of 3 and 5 \n",
    "z = list(range(1, 100))\n",
    "total5 = 0 \n",
    "for n in z:\n",
    "    if n % 3 == 0 or n % 5 == 0:\n",
    "        total5 += n\n",
    "print(total5)"
   ]
  },
  {
   "cell_type": "code",
   "execution_count": 62,
   "metadata": {},
   "outputs": [
    {
     "data": {
      "text/plain": [
       "2318"
      ]
     },
     "execution_count": 62,
     "metadata": {},
     "output_type": "execute_result"
    }
   ],
   "source": [
    "#sum of multiple of 3 and 5 \n",
    "sum(set(list(range(0, 100, 3)) + list(range(0, 100, 5))))"
   ]
  },
  {
   "cell_type": "code",
   "execution_count": 66,
   "metadata": {},
   "outputs": [
    {
     "name": "stdout",
     "output_type": "stream",
     "text": [
      "[1, 2, 3, 4, 5, 6, 7, 8, 9, 10, 11, 12, 13, 14, 15, 16, 17, 18, 19]\n"
     ]
    }
   ],
   "source": [
    "t = list(range(1, 20))\n",
    "total6 = 0\n",
    "print(t)"
   ]
  },
  {
   "cell_type": "code",
   "execution_count": 88,
   "metadata": {},
   "outputs": [
    {
     "name": "stdout",
     "output_type": "stream",
     "text": [
      "Sum of multiple of 3:\n",
      "1683\n",
      "Sum of multiple of 5:\n",
      "635\n",
      "sum of multiple of 3 & 5\n",
      "2318\n"
     ]
    }
   ],
   "source": [
    "# Sum of multiple of 3 & 5 \n",
    "#our own logic\n",
    "t = list(range(1, 100))\n",
    "total7 = 0\n",
    "total8 = 0 \n",
    "for n in t:\n",
    "    if n % 3 == 0:\n",
    "        total7 += n\n",
    "    elif n % 5 == 0:\n",
    "        total8 += n\n",
    "print(\"Sum of multiple of 3:\")\n",
    "print(total7)\n",
    "print(\"Sum of multiple of 5:\")\n",
    "print(total8)\n",
    "print(\"sum of multiple of 3 & 5\")\n",
    "print(total7 + total8)"
   ]
  },
  {
   "cell_type": "code",
   "execution_count": 92,
   "metadata": {},
   "outputs": [
    {
     "name": "stdout",
     "output_type": "stream",
     "text": [
      "1\n",
      "3\n",
      "5\n",
      "7\n",
      "9\n"
     ]
    }
   ],
   "source": [
    "# slicing\n",
    "for i in range(1,10,2):\n",
    "    print(i)"
   ]
  },
  {
   "cell_type": "code",
   "execution_count": 98,
   "metadata": {},
   "outputs": [
    {
     "name": "stdout",
     "output_type": "stream",
     "text": [
      "Found\n"
     ]
    }
   ],
   "source": [
    "a = [10, 20 , 40 ] \n",
    "task_to_find = 20\n",
    "if task_to_find == a[0]:\n",
    "    print(\"found\")  \n",
    "elif task_to_find == a[1]:\n",
    "    print(\"Found\")"
   ]
  },
  {
   "cell_type": "code",
   "execution_count": 106,
   "metadata": {},
   "outputs": [
    {
     "name": "stdout",
     "output_type": "stream",
     "text": [
      "NOt Found\n",
      "NOt Found\n",
      "NOt Found\n",
      "oggy\n"
     ]
    }
   ],
   "source": [
    "list1 = ['shazi','sunny','faizi','oggy']\n",
    "task_to_find  = 'oggy'\n",
    "for task in list1:\n",
    "    if task_to_find == task:\n",
    "        print(task_to_find)\n",
    "    else:\n",
    "        print(\"NOt Found\")"
   ]
  },
  {
   "cell_type": "code",
   "execution_count": 109,
   "metadata": {},
   "outputs": [
    {
     "name": "stdout",
     "output_type": "stream",
     "text": [
      "NOt Found\n",
      "NOt Found\n",
      "NOt Found\n",
      "Found3\n"
     ]
    }
   ],
   "source": [
    "list1 = ['shazi','sunny','faizi','oggy']\n",
    "task_to_find  = 'oggy'\n",
    "for task in range(0,len(list1)):\n",
    "    if task_to_find == list1[task]:\n",
    "        #\n",
    "        print(\"Found\" + str(task))\n",
    "    else:\n",
    "        print(\"NOt Found\")"
   ]
  },
  {
   "cell_type": "code",
   "execution_count": 116,
   "metadata": {},
   "outputs": [
    {
     "name": "stdout",
     "output_type": "stream",
     "text": [
      "Negative\n"
     ]
    }
   ],
   "source": [
    "#check whether a number is positive r negative\n",
    "s = 5\n",
    "if s >= 0:\n",
    "    print(\"Positive\")\n",
    "else:\n",
    "    print(\"Negative\")"
   ]
  },
  {
   "cell_type": "code",
   "execution_count": 4,
   "metadata": {},
   "outputs": [
    {
     "name": "stdout",
     "output_type": "stream",
     "text": [
      "Enter the value:90\n",
      "Enter the value:91\n",
      "Enter the value:92\n",
      "Enter the value:93\n",
      "Enter the value:94\n",
      "Grade A\n",
      "92.0\n"
     ]
    }
   ],
   "source": [
    "#find grade\n",
    "math = int(input(\"Enter the value:\"))\n",
    "phy  = int(input(\"Enter the value:\"))\n",
    "eng = int(input(\"Enter the value:\"))\n",
    "bio = int(input(\"Enter the value:\"))\n",
    "ss = int(input(\"Enter the value:\"))\n",
    "avg = math + phy + eng + bio + ss\n",
    "avg /= 5\n",
    "\n",
    "if avg <= 100 and avg >= 90:\n",
    "    print(\"Grade A\")\n",
    "    print(avg)\n",
    "elif avg <= 89 and avg >= 80:\n",
    "    print(\"Grade B\")\n",
    "elif avg <= 79 and avg >= 70:\n",
    "    print(\"Grade B\")\n",
    "elif avg <= 69 and avg >= 60:\n",
    "    print(\"Grade B\")\n",
    "elif avg <= 59 and avg >= 50:\n",
    "    print(\"Grade B\")\n",
    "else:\n",
    "    print(\"Fial\")\n",
    "    print(avg)\n",
    "    "
   ]
  },
  {
   "cell_type": "code",
   "execution_count": null,
   "metadata": {},
   "outputs": [],
   "source": [
    "# read to numbers and print their quotient and remainder "
   ]
  }
 ],
 "metadata": {
  "kernelspec": {
   "display_name": "Python 3",
   "language": "python",
   "name": "python3"
  },
  "language_info": {
   "codemirror_mode": {
    "name": "ipython",
    "version": 3
   },
   "file_extension": ".py",
   "mimetype": "text/x-python",
   "name": "python",
   "nbconvert_exporter": "python",
   "pygments_lexer": "ipython3",
   "version": "3.7.3"
  }
 },
 "nbformat": 4,
 "nbformat_minor": 2
}
