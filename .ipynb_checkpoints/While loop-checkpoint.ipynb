{
 "cells": [
  {
   "cell_type": "code",
   "execution_count": 2,
   "metadata": {},
   "outputs": [
    {
     "name": "stdout",
     "output_type": "stream",
     "text": [
      "10\n"
     ]
    }
   ],
   "source": [
    "#add using for loop \n",
    "total = 0 \n",
    "for i in range(1, 5):\n",
    "    total += i\n",
    "print(total)"
   ]
  },
  {
   "cell_type": "code",
   "execution_count": 4,
   "metadata": {},
   "outputs": [
    {
     "name": "stdout",
     "output_type": "stream",
     "text": [
      "10\n"
     ]
    }
   ],
   "source": [
    "# add using while loop\n",
    "total1 = 0 \n",
    "j = 1\n",
    "while j < 5:\n",
    "    total1 += j\n",
    "    j += 1\n",
    "print(total1)"
   ]
  },
  {
   "cell_type": "code",
   "execution_count": 15,
   "metadata": {},
   "outputs": [
    {
     "name": "stdout",
     "output_type": "stream",
     "text": [
      "18\n"
     ]
    }
   ],
   "source": [
    "# add only positive number \n",
    "# it will add only when list contain negative numbers\n",
    "\n",
    "list = [5, 4, 4, 3, 2, -2, -3, -4, -4, -5]\n",
    "total2 = 0\n",
    "i = 0 \n",
    "while list[i] > 0:\n",
    "    total2 += list[i]\n",
    "    i += 1\n",
    "print(total2)"
   ]
  },
  {
   "cell_type": "code",
   "execution_count": 24,
   "metadata": {},
   "outputs": [
    {
     "name": "stdout",
     "output_type": "stream",
     "text": [
      "16\n"
     ]
    }
   ],
   "source": [
    "# add list using while loop\n",
    "\n",
    "list = [5, 4, 4, 3]\n",
    "total3 = 0\n",
    "i = 0\n",
    "while i < len(list) and list[i] > 0:\n",
    "    total3 += list[i]\n",
    "    i +=1\n",
    "print(total3)"
   ]
  },
  {
   "cell_type": "code",
   "execution_count": 23,
   "metadata": {},
   "outputs": [
    {
     "name": "stdout",
     "output_type": "stream",
     "text": [
      "-17\n"
     ]
    }
   ],
   "source": [
    "# add only negative numbers\n",
    "list =[7, 5, 4, 4, 3, 1, -2, -3, -5 ,-7]\n",
    "\n",
    "total5 = 0 \n",
    "i = -1 \n",
    "while -1 < 0:\n",
    "    total5 += list[i]\n",
    "    i += -1\n",
    "    if list[i] > 0:\n",
    "        break\n",
    "print(total5)"
   ]
  },
  {
   "cell_type": "code",
   "execution_count": 26,
   "metadata": {},
   "outputs": [
    {
     "name": "stdout",
     "output_type": "stream",
     "text": [
      "-26\n"
     ]
    }
   ],
   "source": [
    "# add only negative numbers\n",
    "list1 = [5, 3, 4, 6, -7, -9, -10]\n",
    "sum = 0 \n",
    "i = -1\n",
    "while -1 < 0:\n",
    "    sum += list1[i]\n",
    "    i += -1\n",
    "    if list1[i] > 0:\n",
    "        break\n",
    "print(sum)"
   ]
  },
  {
   "cell_type": "code",
   "execution_count": 28,
   "metadata": {},
   "outputs": [
    {
     "name": "stdout",
     "output_type": "stream",
     "text": [
      "18\n"
     ]
    }
   ],
   "source": [
    "# add only positive numbers\n",
    "list1 = [5, 3, 4, 6, -7, -9, -10]\n",
    "sum1 = 0\n",
    "i = 0 \n",
    "while 1 > 0:\n",
    "    sum1 += list1[i]\n",
    "    i += 1\n",
    "    if list1[i] < 0:\n",
    "        break\n",
    "print(sum1)"
   ]
  }
 ],
 "metadata": {
  "kernelspec": {
   "display_name": "Python 3",
   "language": "python",
   "name": "python3"
  },
  "language_info": {
   "codemirror_mode": {
    "name": "ipython",
    "version": 3
   },
   "file_extension": ".py",
   "mimetype": "text/x-python",
   "name": "python",
   "nbconvert_exporter": "python",
   "pygments_lexer": "ipython3",
   "version": "3.7.3"
  }
 },
 "nbformat": 4,
 "nbformat_minor": 2
}
