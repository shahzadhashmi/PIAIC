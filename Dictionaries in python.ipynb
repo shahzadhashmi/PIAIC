{
 "cells": [
  {
   "cell_type": "code",
   "execution_count": 13,
   "metadata": {},
   "outputs": [
    {
     "name": "stdout",
     "output_type": "stream",
     "text": [
      "100\n",
      "50\n",
      "40\n"
     ]
    }
   ],
   "source": [
    "# start with curly brackets \n",
    "                      #     key    :   values \n",
    "#key contains value e.g {\"Shahzad\": 100, \"Sunny\": 50, \"Faizi\": 40} \n",
    "# dictionary can be empty\n",
    "\n",
    "d = {}\n",
    "\n",
    "# you can add in empty dictionary\n",
    "# if you want to print specific person then you have to write\n",
    "d[\"Shahzad\"] = 100\n",
    "print(d[\"Shahzad\"])\n",
    "\n",
    "d[\"sunny\"] = 50\n",
    "print(d[\"sunny\"])\n",
    "\n",
    "d[\"faizi\"] = 40\n",
    "print(d[\"faizi\"])"
   ]
  },
  {
   "cell_type": "code",
   "execution_count": 16,
   "metadata": {},
   "outputs": [
    {
     "name": "stdout",
     "output_type": "stream",
     "text": [
      "{'George': 26, 'Tom': 20, 'Jenny': 16}\n"
     ]
    }
   ],
   "source": [
    "# dictionary\n",
    "d={\"George\": 26, \"Tom\": 20, \"Jenny\": 16}\n",
    "print(d)"
   ]
  },
  {
   "cell_type": "code",
   "execution_count": 18,
   "metadata": {},
   "outputs": [
    {
     "name": "stdout",
     "output_type": "stream",
     "text": [
      "20\n"
     ]
    }
   ],
   "source": [
    "# if you want to print only tom then you have to write\n",
    "print(d[\"Tom\"])\n"
   ]
  },
  {
   "cell_type": "code",
   "execution_count": 21,
   "metadata": {},
   "outputs": [
    {
     "name": "stdout",
     "output_type": "stream",
     "text": [
      "80\n"
     ]
    }
   ],
   "source": [
    "#if you want to change the values of Shahzad then\n",
    "d[\"Shahzad\"] = 80\n",
    "print(d[\"Shahzad\"])"
   ]
  },
  {
   "cell_type": "code",
   "execution_count": 24,
   "metadata": {},
   "outputs": [
    {
     "name": "stdout",
     "output_type": "stream",
     "text": [
      "100\n"
     ]
    }
   ],
   "source": [
    "# values can be any type but the keys  are only certain types most commonly keys are strings and numbers\n",
    "d[10] = 100 \n",
    "print(d[10])\n"
   ]
  },
  {
   "cell_type": "code",
   "execution_count": 39,
   "metadata": {},
   "outputs": [
    {
     "name": "stdout",
     "output_type": "stream",
     "text": [
      "Key:\n",
      "George\n",
      "Vlaues:\n",
      "26\n",
      " \n",
      "Key:\n",
      "Tom\n",
      "Vlaues:\n",
      "20\n",
      " \n",
      "Key:\n",
      "Jenny\n",
      "Vlaues:\n",
      "16\n",
      " \n",
      "Key:\n",
      "Shahzad\n",
      "Vlaues:\n",
      "80\n",
      " \n",
      "Key:\n",
      "10\n",
      "Vlaues:\n",
      "100\n",
      " \n"
     ]
    }
   ],
   "source": [
    "# how to iterate over key value pairs\n",
    "for key, value in d.items():\n",
    "    print(\"Key:\")\n",
    "    print(key)\n",
    "    print(\"Vlaues:\")\n",
    "    print(value)\n",
    "    print(\" \")"
   ]
  },
  {
   "cell_type": "code",
   "execution_count": 42,
   "metadata": {},
   "outputs": [
    {
     "name": "stdout",
     "output_type": "stream",
     "text": [
      "key : value :\n",
      "George 26\n",
      "key : value :\n",
      "Tom 20\n",
      "key : value :\n",
      "Jenny 16\n",
      "key : value :\n",
      "Shahzad 80\n",
      "key : value :\n",
      "10 100\n"
     ]
    }
   ],
   "source": [
    "for key, value in d.items():\n",
    "    print(\"key :\", \"value :\")\n",
    "    print(key, value)\n",
    "    "
   ]
  },
  {
   "cell_type": "code",
   "execution_count": 46,
   "metadata": {},
   "outputs": [
    {
     "name": "stdout",
     "output_type": "stream",
     "text": [
      "Yes exist\n"
     ]
    }
   ],
   "source": [
    "# check if shahzad is in dictionary or not\n",
    "\n",
    "if \"Shahzad\" in d:\n",
    "    print(\"Yes exist\")\n",
    "else:\n",
    "    print(\"Not exist\")"
   ]
  },
  {
   "cell_type": "code",
   "execution_count": 48,
   "metadata": {},
   "outputs": [
    {
     "name": "stdout",
     "output_type": "stream",
     "text": [
      "5\n"
     ]
    }
   ],
   "source": [
    "# print length of dictionary\n",
    "print(len(d))"
   ]
  },
  {
   "cell_type": "code",
   "execution_count": null,
   "metadata": {},
   "outputs": [],
   "source": [
    "#Methods\n",
    "#Python has a set of built-in methods that you can use on dictionaries.\n",
    "#Method\tDescription\n",
    "#clear()\tRemoves all the elements from the dictionary\n",
    "#copy()\tReturns a copy of the dictionary\n",
    "#fromkeys()\tReturns a dictionary with the specified keys and values\n",
    "#get()\tReturns the value of the specified key\n",
    "#items()\tReturns a list containing a tuple for each key value pair\n",
    "#keys()\tReturns a list containing the dictionary's keys\n",
    "#pop()\tRemoves the element with the specified key\n",
    "#popitem()\tRemoves the last inserted key-value pair\n",
    "#setdefault()\tReturns the value of the specified key. If the key does not exist: insert the key, with the specified value\n",
    "#update()\tUpdates the dictionary with the specified key-value pairs\n",
    "#values()\tReturns a list of all the values in the dictionary"
   ]
  },
  {
   "cell_type": "code",
   "execution_count": null,
   "metadata": {},
   "outputs": [],
   "source": []
  }
 ],
 "metadata": {
  "kernelspec": {
   "display_name": "Python 3",
   "language": "python",
   "name": "python3"
  },
  "language_info": {
   "codemirror_mode": {
    "name": "ipython",
    "version": 3
   },
   "file_extension": ".py",
   "mimetype": "text/x-python",
   "name": "python",
   "nbconvert_exporter": "python",
   "pygments_lexer": "ipython3",
   "version": "3.7.3"
  }
 },
 "nbformat": 4,
 "nbformat_minor": 2
}
